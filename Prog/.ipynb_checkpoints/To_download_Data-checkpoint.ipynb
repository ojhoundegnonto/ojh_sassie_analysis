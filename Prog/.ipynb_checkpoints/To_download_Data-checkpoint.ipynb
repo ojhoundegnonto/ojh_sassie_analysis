{
 "cells": [
  {
   "cell_type": "code",
   "execution_count": 1,
   "id": "fe5cfc0a-746a-4803-a16e-cbfcbd2f04e9",
   "metadata": {},
   "outputs": [],
   "source": [
    "import numpy as np\n",
    "import datetime\n",
    "import netCDF4\n",
    "#-------------------------------------------------------------------------|\n",
    "import matplotlib.pyplot as plt\n",
    "import matplotlib.ticker as mticker\n",
    "import matplotlib.patches as mpatches\n",
    "import matplotlib.colors as colors\n",
    "#-------------------------------------------------------------------------|\n",
    "import cartopy.crs as ccrs\n",
    "import cartopy.feature as cfeature\n",
    "from cartopy.mpl.gridliner import LONGITUDE_FORMATTER, LATITUDE_FORMATTER\n",
    "from scipy.io import loadmat\n",
    "import xarray as xr\n",
    "import math\n",
    "import h5py\n",
    "import pandas as pd\n",
    "import re\n",
    "from pathlib import Path\n",
    "import os\n",
    "import numpy.ma as ma\n",
    "import glob as glob\n",
    "###############################\n",
    "from pyresample import kd_tree, geometry, utils\n",
    "from pyresample.geometry import GridDefinition\n",
    "from pyresample.geometry import AreaDefinition\n",
    "import pyproj as pyproj\n",
    "from  pyproj import transform\n",
    "from pyproj import Proj\n",
    "# may make plotting faster\n",
    "pyproj.set_use_global_context()\n",
    "###############################\n",
    "import tqdm as tqdm\n",
    "#-------------------------------------------------------------------------|\n",
    "%matplotlib inline\n",
    "import warnings\n",
    "warnings.filterwarnings('ignore')"
   ]
  },
  {
   "cell_type": "code",
   "execution_count": null,
   "id": "07dd4c09-5404-47bb-b93d-95896c0522fd",
   "metadata": {},
   "outputs": [],
   "source": [
    "url_heard = 'https://thredds.met.no/thredds/fileServer/osisaf/met.no/ice/amsr2_conc/'\n",
    "anne = \"2022/\"\n",
    "name_prefix = \"ice_conc_nh_polstere-100_amsr2_2022\"\n",
    "name_sufix = \"1200.nc\"\n",
    "for ji in tqdm.tqdm(np.arange(9,13,1)):\n",
    "    if ji==9 or ji==11:\n",
    "        mois_end = int(30)\n",
    "    else :\n",
    "        mois_end = int(31)\n",
    "    n_mois = int(ji)\n",
    "    for i in tqdm.tqdm(np.arange(1,mois_end+1,1)):\n",
    "        mois = str(n_mois).zfill(2)+\"/\"\n",
    "        name_mois = str(n_mois).zfill(2)\n",
    "        name_day = str(i).zfill(2)\n",
    "        print(url_heard+anne+mois+name_prefix+name_mois+name_day+name_sufix)\n",
    "        os.system('wget '+url_heard+anne+mois+name_prefix+name_mois+name_day+name_sufix)"
   ]
  }
 ],
 "metadata": {
  "kernelspec": {
   "display_name": "Python 3 (ipykernel)",
   "language": "python",
   "name": "python3"
  },
  "language_info": {
   "codemirror_mode": {
    "name": "ipython",
    "version": 3
   },
   "file_extension": ".py",
   "mimetype": "text/x-python",
   "name": "python",
   "nbconvert_exporter": "python",
   "pygments_lexer": "ipython3",
   "version": "3.11.8"
  }
 },
 "nbformat": 4,
 "nbformat_minor": 5
}
